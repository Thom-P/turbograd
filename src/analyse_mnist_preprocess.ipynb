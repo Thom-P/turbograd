{
 "cells": [
  {
   "cell_type": "code",
   "execution_count": 10,
   "id": "5360bf52-5ece-4b9e-aa08-7938b35b794d",
   "metadata": {},
   "outputs": [],
   "source": [
    "from PIL import Image, ImageOps, ImageTk, ImageDraw\n",
    "import numpy as np\n",
    "\n",
    "## tmp add detection here before packaging\n",
    "\n",
    "import torch\n",
    "from torch import nn\n",
    "from torchvision import datasets, transforms\n",
    "import sys\n",
    "# import matplotlib.pyplot as plt\n",
    "# mnist_raw_train = torchvision.datasets.MNIST(root='dataset', train=True, transform=np.asarray, download=True)\n",
    "# mnist_raw_test = torchvision.datasets.MNIST(root='dataset', train=False, transform=np.asarray, download=True)\n",
    "\n",
    "mnist_raw_train = datasets.MNIST(root='../MNIST_dataset',\n",
    "                                 train=True,\n",
    "                                 transform=np.asarray,\n",
    "                                 download=True)\n",
    "#mnist_raw_test = datasets.MNIST(root='../MNIST_dataset',\n",
    "#                                train=False,\n",
    "#                                transform=np.asarray,\n",
    "#                                download=True)\n",
    "n_train = len(mnist_raw_train)  # 60_000\n",
    "#n_test = len(mnist_raw_test)  # 10_000\n",
    "\n",
    "\n"
   ]
  },
  {
   "cell_type": "code",
   "execution_count": 86,
   "id": "042f59c3-135a-41bb-a4c5-b3f9b56f5446",
   "metadata": {},
   "outputs": [],
   "source": [
    "#arr = mnist_raw_train[10][0]\n",
    "arr = np.asarray(Image.open('debug_cm.png'))\n",
    "\n",
    "# compute center of mass (cm) of pixels\n",
    "y_cm, x_cm = (np.mgrid[0:28, 0:28] * arr).sum(1).sum(1) / arr.sum()\n",
    "\n",
    "\n",
    "#arr_40 = np.zeros((40, 40), dtype='uint8')  # double size to include 20x20 array centered on cm\n",
    "#arr_40[20 - row_cm:20 - row_cm + 20, 20 - col_cm:20 - col_cm + 20] = arr_20\n",
    "#im_28 = Image.fromarray(arr_40[(40 - 28) // 2:(40 - 28) // 2 + 28, (40 - 28) // 2:(40 - 28) // 2 + 28], mode='L')"
   ]
  },
  {
   "cell_type": "code",
   "execution_count": 87,
   "id": "55f8ba45-b01a-4ed0-88fc-db8a83dfc600",
   "metadata": {},
   "outputs": [
    {
     "data": {
      "text/plain": [
       "[<matplotlib.lines.Line2D at 0x12298eb60>]"
      ]
     },
     "execution_count": 87,
     "metadata": {},
     "output_type": "execute_result"
    },
    {
     "data": {
      "image/png": "[encoded data removed]",
      "text/plain": [
       "<Figure size 1000x1000 with 1 Axes>"
      ]
     },
     "metadata": {},
     "output_type": "display_data"
    }
   ],
   "source": [
    "import matplotlib.pyplot as plt\n",
    "\n",
    "fig, ax = plt.subplots(figsize=(10, 10))\n",
    "im = ax.imshow(arr, cmap='gray')\n",
    "\n",
    "# Turn spines off and create white grid.\n",
    "ax.spines[:].set_visible(False)\n",
    "\n",
    "ax.set_xticks(np.arange(arr.shape[1]+1)-.5, minor=True)\n",
    "ax.set_yticks(np.arange(arr.shape[0]+1)-.5, minor=True)\n",
    "ax.grid(which=\"minor\", color=\"b\", linestyle='-', linewidth=1)\n",
    "ax.tick_params(which=\"minor\", bottom=False, left=False)\n",
    "\n",
    "\n",
    "#fig.colorbar(im)\n",
    "\n",
    "# Loop over data dimensions and create text annotations.\n",
    "#for i in range(28):\n",
    "#    for j in range(28):\n",
    "#        text = ax.text(j, i, arr[i, j],\n",
    "#                       ha=\"center\", va=\"center\", color=\"b\")\n",
    "\n",
    "ax.plot(x_cm, y_cm, '+r')\n",
    "ax.plot(13.5, 13.5, 'og')"
   ]
  },
  {
   "cell_type": "code",
   "execution_count": 35,
   "id": "53255474-6d29-4cfd-8c00-7425a0c5e03a",
   "metadata": {},
   "outputs": [
    {
     "data": {
      "text/plain": [
       "[<matplotlib.lines.Line2D at 0x123a98880>]"
      ]
     },
     "execution_count": 35,
     "metadata": {},
     "output_type": "execute_result"
    }
   ],
   "source": []
  },
  {
   "cell_type": "code",
   "execution_count": 30,
   "id": "ec62554b-6b5e-49d0-8ad6-fd6134b6cb3d",
   "metadata": {},
   "outputs": [],
   "source": []
  },
  {
   "cell_type": "code",
   "execution_count": 25,
   "id": "caa6b40f-7577-478d-973d-9b15e1d7f4d4",
   "metadata": {},
   "outputs": [
    {
     "data": {
      "text/plain": [
       "255"
      ]
     },
     "execution_count": 25,
     "metadata": {},
     "output_type": "execute_result"
    }
   ],
   "source": [
    "arr.max()"
   ]
  },
  {
   "cell_type": "code",
   "execution_count": null,
   "id": "d9e55243-6d72-48f9-91fc-f27dd2dccd1b",
   "metadata": {},
   "outputs": [],
   "source": []
  }
 ],
 "metadata": {
  "kernelspec": {
   "display_name": "Python 3 (ipykernel)",
   "language": "python",
   "name": "python3"
  },
  "language_info": {
   "codemirror_mode": {
    "name": "ipython",
    "version": 3
   },
   "file_extension": ".py",
   "mimetype": "text/x-python",
   "name": "python",
   "nbconvert_exporter": "python",
   "pygments_lexer": "ipython3",
   "version": "3.10.8"
  }
 },
 "nbformat": 4,
 "nbformat_minor": 5
}
