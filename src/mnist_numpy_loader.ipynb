{
 "cells": [
  {
   "cell_type": "markdown",
   "id": "24f7daec-3d95-45e6-b509-c24a54ce3447",
   "metadata": {},
   "source": [
    "# Loading MNIST dataset from binary files"
   ]
  },
  {
   "cell_type": "code",
   "execution_count": 5,
   "id": "e50738e9-fa3e-404d-a2b6-f8d89f402dec",
   "metadata": {},
   "outputs": [
    {
     "name": "stdout",
     "output_type": "stream",
     "text": [
      "total 130016\n",
      "drwxr-xr-x  10 thomas  staff       320 Jan 10 18:48 \u001b[34m.\u001b[m\u001b[m/\n",
      "drwxr-xr-x   3 thomas  staff        96 Jan 10 18:47 \u001b[34m..\u001b[m\u001b[m/\n",
      "-rw-r--r--   1 thomas  staff   7840016 Jan 10 18:48 t10k-images-idx3-ubyte\n",
      "-rw-r--r--   1 thomas  staff   1648877 Jan 10 18:48 t10k-images-idx3-ubyte.gz\n",
      "-rw-r--r--   1 thomas  staff     10008 Jan 10 18:48 t10k-labels-idx1-ubyte\n",
      "-rw-r--r--   1 thomas  staff      4542 Jan 10 18:48 t10k-labels-idx1-ubyte.gz\n",
      "-rw-r--r--   1 thomas  staff  47040016 Jan 10 18:48 train-images-idx3-ubyte\n",
      "-rw-r--r--   1 thomas  staff   9912422 Jan 10 18:48 train-images-idx3-ubyte.gz\n",
      "-rw-r--r--   1 thomas  staff     60008 Jan 10 18:48 train-labels-idx1-ubyte\n",
      "-rw-r--r--   1 thomas  staff     28881 Jan 10 18:48 train-labels-idx1-ubyte.gz\n"
     ]
    }
   ],
   "source": [
    "ls -la ../MNIST_dataset/MNIST/raw"
   ]
  },
  {
   "cell_type": "markdown",
   "id": "a0f19942-a1b2-4429-8e80-bf9b61df0ea4",
   "metadata": {},
   "source": [
    "training set images in: train-images-idx3-ubyte"
   ]
  },
  {
   "cell_type": "code",
   "execution_count": 1,
   "id": "65072059-31d7-413c-a907-f140aa385680",
   "metadata": {},
   "outputs": [],
   "source": [
    "with open('../MNIST_dataset/MNIST/raw/t10k-images-idx3-ubyte', 'rb') as f:\n",
    "    buffer = f.read()\n",
    "    "
   ]
  },
  {
   "cell_type": "code",
   "execution_count": 3,
   "id": "ceb7cae6-508c-40a6-ae3a-f7ea96b8024e",
   "metadata": {},
   "outputs": [],
   "source": [
    "import numpy as np\n",
    "\n",
    "\n",
    "test = np.frombuffer(buffer, dtype='>i4', count=4, offset=0)\n",
    "# should put an assert here \n",
    "test_set = np.frombuffer(buffer, dtype='B', count=28*28*10_000, offset=16).reshape(10000, 28, 28)\n"
   ]
  },
  {
   "cell_type": "code",
   "execution_count": 6,
   "id": "e0cbc149-90ea-4352-918b-7ad9053110b3",
   "metadata": {},
   "outputs": [
    {
     "data": {
      "text/plain": [
       "<matplotlib.image.AxesImage at 0x1117999c0>"
      ]
     },
     "execution_count": 6,
     "metadata": {},
     "output_type": "execute_result"
    },
    {
     "data": {
      "image/png": "[encoded data removed]",
      "text/plain": [
       "<Figure size 640x480 with 1 Axes>"
      ]
     },
     "metadata": {},
     "output_type": "display_data"
    }
   ],
   "source": [
    "import matplotlib.pyplot as plt\n",
    "\n",
    "im_test = test_set[1]\n",
    "fig, ax = plt.subplots()\n",
    "ax.imshow(im_test)"
   ]
  },
  {
   "cell_type": "markdown",
   "id": "e4ab46c7-c311-43b1-ad73-4de848c0b97a",
   "metadata": {},
   "source": [
    "# try loading the same from NIST and compare (see Coldcase paper 2019)"
   ]
  },
  {
   "cell_type": "code",
   "execution_count": 21,
   "id": "b133102a-cc55-48fc-b51c-f88885357588",
   "metadata": {},
   "outputs": [],
   "source": [
    "from PIL import Image, ImageFilter, ImageOps\n",
    "\n",
    "im_raw = Image.open('d2359_72_00055.png')\n",
    "im = ImageOps.invert(im_raw)"
   ]
  },
  {
   "cell_type": "code",
   "execution_count": 24,
   "id": "5668694b-c33e-4940-89de-75d540b8f611",
   "metadata": {},
   "outputs": [
    {
     "data": {
      "text/plain": [
       "array([[0, 0, 0, ..., 0, 0, 0],\n",
       "       [0, 0, 0, ..., 0, 0, 0],\n",
       "       [0, 0, 0, ..., 0, 0, 0],\n",
       "       ...,\n",
       "       [0, 0, 0, ..., 0, 0, 0],\n",
       "       [0, 0, 0, ..., 0, 0, 0],\n",
       "       [0, 0, 0, ..., 0, 0, 0]], dtype=uint8)"
      ]
     },
     "execution_count": 24,
     "metadata": {},
     "output_type": "execute_result"
    }
   ],
   "source": [
    "im_arr = np.array(im)\n",
    "im_arr = im_arr[:, :, 0]\n",
    "im_arr"
   ]
  },
  {
   "cell_type": "code",
   "execution_count": 25,
   "id": "fe2e95e5-91bb-43cc-ae79-1acb24203c14",
   "metadata": {},
   "outputs": [
    {
     "data": {
      "text/plain": [
       "(45, 83, 46, 82)"
      ]
     },
     "execution_count": 25,
     "metadata": {},
     "output_type": "execute_result"
    }
   ],
   "source": [
    "is_row_empty = im_arr.any(1)\n",
    "row_start = np.argmax(is_row_empty)\n",
    "row_end = len(is_row_empty) - 1 - np.argmax(is_row_empty[::-1])\n",
    "\n",
    "is_col_empty = im_arr.any(0)\n",
    "col_start = np.argmax(is_col_empty)\n",
    "col_end = len(is_col_empty) - 1 - np.argmax(is_col_empty[::-1])\n",
    "row_start, row_end, col_start, col_end"
   ]
  },
  {
   "cell_type": "code",
   "execution_count": 28,
   "id": "82c8b282-e5c0-4b66-9951-a9a3bf532e0d",
   "metadata": {},
   "outputs": [
    {
     "name": "stdout",
     "output_type": "stream",
     "text": [
      "(39, 39)\n"
     ]
    },
    {
     "data": {
      "image/jpeg": "[encoded data removed]",
      "image/png": "[encoded data removed]",
      "text/plain": [
       "<PIL.Image.Image image mode=L size=39x39>"
      ]
     },
     "execution_count": 28,
     "metadata": {},
     "output_type": "execute_result"
    }
   ],
   "source": [
    "# Crop/normalize image into square bounding box\n",
    "if row_end - row_start > col_end - col_start:\n",
    "    n_pix = row_end - row_start + 1\n",
    "    n_col = col_end - col_start + 1\n",
    "    arr_norm = np.zeros((n_pix, n_pix), dtype='uint8')\n",
    "    arr_norm[:, (n_pix - n_col) // 2:(n_pix - n_col) // 2 + n_col] \\\n",
    "        = im_arr[row_start:row_end + 1, col_start:col_end + 1]\n",
    "else:\n",
    "    n_pix = col_end - col_start + 1\n",
    "    n_row = row_end - row_start + 1\n",
    "    arr_norm = np.zeros((n_pix, n_pix), dtype='uint8')\n",
    "    arr_norm[(n_pix - n_row) // 2:(n_pix - n_row) // 2 + n_row, :] \\\n",
    "        = im_arr[row_start:row_end + 1, col_start:col_end + 1]\n",
    "\n",
    "im_norm = Image.fromarray(arr_norm, mode='L')\n",
    "print(arr_norm.shape)\n",
    "im_norm"
   ]
  },
  {
   "cell_type": "code",
   "execution_count": 90,
   "id": "deee8d6f-8baa-4fc1-a622-1736a728569b",
   "metadata": {},
   "outputs": [
    {
     "data": {
      "image/jpeg": "[encoded data removed]",
      "image/png": "[encoded data removed]",
      "text/plain": [
       "<PIL.Image.Image image mode=L size=28x28>"
      ]
     },
     "execution_count": 90,
     "metadata": {},
     "output_type": "execute_result"
    }
   ],
   "source": [
    "im_20 = im_norm.resize((20, 20), resample=Image.Resampling.HAMMING)  # downsample to 20x20\n",
    "arr_20 = np.array(im_20)\n",
    "\n",
    "# Compute center of mass (cm) of pixels\n",
    "# with correction of inverted axes bug and round instead of floor!\n",
    "y_cm, x_cm = (np.mgrid[0:20, 0:20] * arr_20).sum(1).sum(1) / arr_20.sum()\n",
    "row_cm, col_cm = round(y_cm), round(x_cm)\n",
    "\n",
    "# tmp arr of double size to include 20x20 centered on cm\n",
    "arr_40 = np.zeros((40, 40), dtype='uint8')\n",
    "# cm is at ind [20, 20] in arr40\n",
    "arr_40[20 - row_cm:20 - row_cm + 20, 20 - col_cm:20 - col_cm + 20] = arr_20\n",
    "\n",
    "# im_28 = Image.fromarray(arr_40[(40 - 28) // 2:(40 - 28) // 2 + 28, \\\n",
    "#    (40 - 28) // 2:(40 - 28) // 2 + 28], mode='L')\n",
    "\n",
    "# cm at ind 14 in arr_28\n",
    "i_start = (40 - 28) // 2\n",
    "arr_28 = arr_40[i_start:i_start + 28, i_start:i_start + 28]\n",
    "im_28 = Image.fromarray(arr_28, mode='L')\n",
    "im_28"
   ]
  },
  {
   "cell_type": "code",
   "execution_count": 91,
   "id": "b86a4b68-a86b-41de-baf2-5558007fdca8",
   "metadata": {},
   "outputs": [
    {
     "data": {
      "text/plain": [
       "<matplotlib.colorbar.Colorbar at 0x1161a6bf0>"
      ]
     },
     "execution_count": 91,
     "metadata": {},
     "output_type": "execute_result"
    },
    {
     "data": {
      "image/png": "[encoded data removed]",
      "text/plain": [
       "<Figure size 640x480 with 2 Axes>"
      ]
     },
     "metadata": {},
     "output_type": "display_data"
    }
   ],
   "source": [
    "#fig, ax = plt.subplots(1, 3)\n",
    "#ax[0].imshow(im_test)\n",
    "#ax[1].imshow(arr_28)\n",
    "#ax[2].imshow(im_test - arr_28)\n",
    "fig, ax = plt.subplots()\n",
    "plot = ax.imshow(im_test-arr_28)\n",
    "fig.colorbar(plot, ax=ax)"
   ]
  },
  {
   "cell_type": "code",
   "execution_count": 92,
   "id": "b1ca1fb0-3837-42ab-b40f-15c0587fa5f6",
   "metadata": {},
   "outputs": [],
   "source": [
    "#arr_28 - im_test\n"
   ]
  },
  {
   "cell_type": "markdown",
   "id": "79fc65d3-b87f-4e25-b7d3-91c89b10066f",
   "metadata": {},
   "source": [
    "To be continued... see lush code for resamp from link in coldcase paper"
   ]
  },
  {
   "cell_type": "code",
   "execution_count": null,
   "id": "33e48b1f-75c7-48b1-a695-8c753921f3da",
   "metadata": {},
   "outputs": [],
   "source": []
  }
 ],
 "metadata": {
  "kernelspec": {
   "display_name": "Python 3 (ipykernel)",
   "language": "python",
   "name": "python3"
  },
  "language_info": {
   "codemirror_mode": {
    "name": "ipython",
    "version": 3
   },
   "file_extension": ".py",
   "mimetype": "text/x-python",
   "name": "python",
   "nbconvert_exporter": "python",
   "pygments_lexer": "ipython3",
   "version": "3.10.8"
  }
 },
 "nbformat": 4,
 "nbformat_minor": 5
}
